{
 "cells": [
  {
   "cell_type": "markdown",
   "id": "756d879f",
   "metadata": {},
   "source": [
    "**EXERCISES N. 1**\n",
    "\n",
    "\n",
    "Resolve the following exercises using a code editor, an IDE, or a Jupyter Notebook. Then, upload the files to a GitHub public repository. Finally, share the repository's URL as a response to this thread."
   ]
  },
  {
   "cell_type": "markdown",
   "id": "2214d4e0",
   "metadata": {},
   "source": [
    "**Exercise 1**\n",
    "\n",
    "\n",
    "Write a program that:\n",
    "- Asks the user for their current age.\n",
    "- Calculates and displays their age 10 years from now."
   ]
  },
  {
   "cell_type": "code",
   "execution_count": 10,
   "id": "cca78e16",
   "metadata": {},
   "outputs": [
    {
     "name": "stdout",
     "output_type": "stream",
     "text": [
      "Enter your current age: 26\n",
      "Your age 10 years from now is: 36\n"
     ]
    }
   ],
   "source": [
    "age = input('Enter your current age: ')\n",
    "age_plus_10_years = int(age) + 10\n",
    "print('Your age 10 years from now is:',age_plus_10_years)"
   ]
  },
  {
   "cell_type": "markdown",
   "id": "b6d637b4",
   "metadata": {},
   "source": [
    "**Exercise 2**\n",
    "\n",
    "\n",
    "Write a program that:\n",
    "- Asks the user for their favorite color, food, and hobby.\n",
    "- Outputs a summary sentence using their inputs."
   ]
  },
  {
   "cell_type": "code",
   "execution_count": 9,
   "id": "1689708c",
   "metadata": {},
   "outputs": [
    {
     "name": "stdout",
     "output_type": "stream",
     "text": [
      "Enter your favorite color: blue\n",
      "Enter your favorite food: hamburger\n",
      "Enter your favorite hobby: read\n",
      "Your favorite color is blue, your favorite food is hamburger and your favorite hobby is read\n"
     ]
    }
   ],
   "source": [
    "color = input('Enter your favorite color: ')\n",
    "food = input('Enter your favorite food: ')\n",
    "hobby = input('Enter your favorite hobby: ')\n",
    "print(f'Your favorite color is {color}, your favorite food is {food} and your favorite hobby is {hobby}')"
   ]
  },
  {
   "cell_type": "markdown",
   "id": "ce077592",
   "metadata": {},
   "source": [
    "**Exercise 3**\n",
    "\n",
    "Write a program that:\n",
    "- Prompts the user to enter a temperature in Celsius.\n",
    "- Converts it to Fahrenheit and displays the result."
   ]
  },
  {
   "cell_type": "code",
   "execution_count": 1,
   "id": "f21b4fa2",
   "metadata": {},
   "outputs": [
    {
     "name": "stdout",
     "output_type": "stream",
     "text": [
      "Enter a temperature in Celsius: 30\n",
      "The temperature 30 °C converted to Fahrenheit is 86.0 °F\n"
     ]
    }
   ],
   "source": [
    "celsius = input('Enter a temperature in Celsius: ')\n",
    "fahrenheit = (int(celsius)* 9/5) + 32\n",
    "print(f'The temperature {celsius} °C converted to Fahrenheit is {fahrenheit} °F')"
   ]
  },
  {
   "cell_type": "markdown",
   "id": "7ebaf843",
   "metadata": {},
   "source": [
    "**Exercise 4**\n",
    "\n",
    "Write a program that:\n",
    "- Asks the user to guess a number between 1 and 10.\n",
    "- Outputs whether the guess is correct (assume the number is 7 for this exercise)."
   ]
  },
  {
   "cell_type": "code",
   "execution_count": 4,
   "id": "65dad986",
   "metadata": {},
   "outputs": [
    {
     "name": "stdout",
     "output_type": "stream",
     "text": [
      "Please guess a number between 1 and 10: 5\n",
      "Wrong guess. Try again!\n",
      "Please guess a number between 1 and 10: 18\n",
      "The number is outside the requested range. Try again!\n",
      "Please guess a number between 1 and 10: 7\n",
      "Correct! You guessed the right number.\n"
     ]
    }
   ],
   "source": [
    "correct_number = 7\n",
    "number = 0\n",
    "while (int(number) != int(correct_number)):\n",
    "    number = int(input('Please guess a number between 1 and 10: '))\n",
    "    if 1 <= number <= 10:\n",
    "        if (int(number) == int(correct_number)):\n",
    "            print(\"Correct! You guessed the right number.\")\n",
    "        else:\n",
    "            print(\"Wrong guess. Try again!\")\n",
    "    else:\n",
    "        print(\"The number is outside the requested range. Try again!\")"
   ]
  },
  {
   "cell_type": "markdown",
   "id": "50356c4a",
   "metadata": {},
   "source": [
    "**Exercise 5**\n",
    "\n",
    "Write a program that:\n",
    "- Asks the user to input a word and a number.\n",
    "- Prints the word repeated that number of times."
   ]
  },
  {
   "cell_type": "code",
   "execution_count": 14,
   "id": "9913744d",
   "metadata": {},
   "outputs": [
    {
     "name": "stdout",
     "output_type": "stream",
     "text": [
      "Enter a word: Hello\n",
      "Enter a number: 5\n",
      "Hello Hello Hello Hello Hello\n"
     ]
    }
   ],
   "source": [
    "word = input('Enter a word: ')\n",
    "number = int(input('Enter a number: '))\n",
    "print(\" \".join([word] * number))"
   ]
  },
  {
   "cell_type": "markdown",
   "id": "9809e5c7",
   "metadata": {},
   "source": [
    "**EXERCISES N. 2**"
   ]
  },
  {
   "cell_type": "markdown",
   "id": "8a846e2d",
   "metadata": {},
   "source": [
    "**Exercise 1**\n",
    "\n",
    "Write a program that:\n",
    "- Asks the user to enter a sentence.\n",
    "- Outputs the sentence in all uppercase, all lowercase, and with the first letter of each word capitalized."
   ]
  },
  {
   "cell_type": "code",
   "execution_count": 15,
   "id": "55aaf5a4",
   "metadata": {},
   "outputs": [
    {
     "name": "stdout",
     "output_type": "stream",
     "text": [
      "Please, enter a sentence: Hello world\n",
      "Uppercase: HELLO WORLD\n",
      "Lowercase: hello world\n",
      "Title Case: Hello World\n"
     ]
    }
   ],
   "source": [
    "sentence = input('Please, enter a sentence: ')\n",
    "print(\"Uppercase:\", sentence.upper())      \n",
    "print(\"Lowercase:\", sentence.lower())\n",
    "print(\"Title Case:\", sentence.title()) "
   ]
  },
  {
   "cell_type": "markdown",
   "id": "aa073877",
   "metadata": {},
   "source": [
    "**Exercise 2**\n",
    "\n",
    "Write a program that:\n",
    "- Asks the user to input two boolean values (True or False).\n",
    "- Evaluates and displays the results of logical operations (and, or, not) between the two values."
   ]
  },
  {
   "cell_type": "code",
   "execution_count": 1,
   "id": "f004fa8d",
   "metadata": {},
   "outputs": [
    {
     "name": "stdout",
     "output_type": "stream",
     "text": [
      "Please, enter a boolean: True\n",
      "Please, enter another boolean: False\n",
      "True AND False → False\n",
      "True OR False → True\n",
      "NOT True → False\n",
      "NOT False → True\n"
     ]
    }
   ],
   "source": [
    "boolean_1 = input('Please, enter a boolean: ').strip().capitalize()\n",
    "boolean_2 = input('Please, enter another boolean: ').strip().capitalize()\n",
    "\n",
    "boolean_1 = boolean_1 == \"True\"\n",
    "boolean_2 = boolean_2 == \"True\"\n",
    "\n",
    "print(f\"{boolean_1} AND {boolean_2} → {boolean_1 and boolean_2}\")\n",
    "print(f\"{boolean_1} OR {boolean_2} → {boolean_1 or boolean_2}\")\n",
    "print(f\"NOT {boolean_1} → {not boolean_1}\")\n",
    "print(f\"NOT {boolean_2} → {not boolean_2}\")"
   ]
  }
 ],
 "metadata": {
  "kernelspec": {
   "display_name": "Python 3 (ipykernel)",
   "language": "python",
   "name": "python3"
  },
  "language_info": {
   "codemirror_mode": {
    "name": "ipython",
    "version": 3
   },
   "file_extension": ".py",
   "mimetype": "text/x-python",
   "name": "python",
   "nbconvert_exporter": "python",
   "pygments_lexer": "ipython3",
   "version": "3.9.13"
  }
 },
 "nbformat": 4,
 "nbformat_minor": 5
}
