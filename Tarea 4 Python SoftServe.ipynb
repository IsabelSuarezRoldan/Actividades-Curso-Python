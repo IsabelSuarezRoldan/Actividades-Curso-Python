{
 "cells": [
  {
   "cell_type": "markdown",
   "id": "d50ba676-3aa1-44bb-881a-d0c6ee8bbc5f",
   "metadata": {},
   "source": [
    "**EXERCISES N. 5**\n",
    "\n",
    "Resolve the following exercises using a code editor, an IDE, or a Jupyter Notebook. Then, upload the files to a GitHub public repository. Finally, share the repository's URL as a response to this thread."
   ]
  },
  {
   "cell_type": "markdown",
   "id": "ba14b539-9ded-489f-b611-df5287866108",
   "metadata": {},
   "source": [
    "**Exercise 1**\n",
    "\n",
    "Write a program that:\n",
    "- Prompts the user to enter a series of numbers separated by spaces.\n",
    "- Converts the input into a list of integers.\n",
    "- Displays the list, its length, and the largest and smallest numbers in the list."
   ]
  },
  {
   "cell_type": "code",
   "execution_count": 1,
   "id": "ed9216ef-ed44-4720-8a2f-99d86b614a52",
   "metadata": {},
   "outputs": [
    {
     "name": "stdin",
     "output_type": "stream",
     "text": [
      "Please, enter a series of numbers separated by spaces 1 2 3 4 5 6\n"
     ]
    },
    {
     "name": "stdout",
     "output_type": "stream",
     "text": [
      "The list of numbers is: [1, 2, 3, 4, 5, 6]\n",
      "The length of the list is:6\n",
      "The largest number of the list is: 6\n",
      "The smallest number of the list is: 1\n"
     ]
    }
   ],
   "source": [
    "numbers = input(\"Please, enter a series of numbers separated by spaces\")\n",
    "list_numbers = list(map(int,numbers.split()))\n",
    "if list_numbers:\n",
    "    print(f\"The list of numbers is: {list_numbers}\")\n",
    "    print(f\"The length of the list is:{len(list_numbers)}\")\n",
    "    print(f\"The largest number of the list is: {max(list_numbers)}\")\n",
    "    print(f\"The smallest number of the list is: {min(list_numbers)}\")\n",
    "else:\n",
    "    print(\"Please, enter a valid series of numbers\")"
   ]
  },
  {
   "cell_type": "markdown",
   "id": "8ec94321-3853-4a34-b182-085a65662e32",
   "metadata": {},
   "source": [
    "**Exercise 2**\n",
    "  \n",
    "Write a program that:\n",
    "- Creates a tuple with five elements (hardcoded).\n",
    "- Unpacks the tuple into separate variables and displays each variable."
   ]
  },
  {
   "cell_type": "code",
   "execution_count": 2,
   "id": "e5505098-d0dc-4949-842a-f761b71eca91",
   "metadata": {},
   "outputs": [
    {
     "name": "stdout",
     "output_type": "stream",
     "text": [
      "name = Andres\n",
      "number = 5\n",
      "color = blue\n",
      "clothes = jean\n",
      "cellphone number = 3115429865\n"
     ]
    }
   ],
   "source": [
    "my_tuple = ('Andres',5,'blue', 'jean', 3115429865)\n",
    "name, number, color, clothes, cellphone_number = my_tuple\n",
    "print(f\"name = {name}\")\n",
    "print(f\"number = {number}\")\n",
    "print(f\"color = {color}\")\n",
    "print(f\"clothes = {clothes}\")\n",
    "print(f\"cellphone number = {cellphone_number}\")"
   ]
  },
  {
   "cell_type": "markdown",
   "id": "b3933afa-7645-4e7c-9d1b-1af79ffb4299",
   "metadata": {},
   "source": [
    "**Exercise 3**\n",
    "  \n",
    "Write a program that:\n",
    "- Asks the user to input two sets of numbers separated by commas.\n",
    "- Converts the inputs into sets and performs the following operations:\n",
    "    - Union\n",
    "    - Intersection\n",
    "    - Difference (first set minus the second)"
   ]
  },
  {
   "cell_type": "code",
   "execution_count": 3,
   "id": "53eb5537-c748-4470-a1e2-264e141c99f8",
   "metadata": {},
   "outputs": [
    {
     "name": "stdin",
     "output_type": "stream",
     "text": [
      "Please, enter a set of numbers separated by comas 1,2,3,4,5,6,7,8,9\n",
      "Please, enter another set of numbers separated by comas 1,2,3,4,5\n"
     ]
    },
    {
     "name": "stdout",
     "output_type": "stream",
     "text": [
      "The union between set_a: {1, 2, 3, 4, 5, 6, 7, 8, 9} and set_b: {1, 2, 3, 4, 5} is:  {1, 2, 3, 4, 5, 6, 7, 8, 9}\n",
      "The intersection between set_a: {1, 2, 3, 4, 5, 6, 7, 8, 9} and set_b: {1, 2, 3, 4, 5} is:  {1, 2, 3, 4, 5}\n",
      "The difference between set_a: {1, 2, 3, 4, 5, 6, 7, 8, 9} and set_b: {1, 2, 3, 4, 5} is:  {8, 9, 6, 7}\n"
     ]
    }
   ],
   "source": [
    "numbers = input(\"Please, enter a set of numbers separated by comas\").strip()\n",
    "other_numbers = input(\"Please, enter another set of numbers separated by comas\").strip()\n",
    "set_a = set(map(int, numbers.split(',')))\n",
    "set_b = set(map(int, other_numbers.split(',')))\n",
    "print (f\"The union between set_a: {set_a} and set_b: {set_b} is: \", set_a.union(set_b))\n",
    "print (f\"The intersection between set_a: {set_a} and set_b: {set_b} is: \", set_a.intersection(set_b))\n",
    "print (f\"The difference between set_a: {set_a} and set_b: {set_b} is: \", set_a.difference(set_b))"
   ]
  },
  {
   "cell_type": "markdown",
   "id": "c0ed596a-1b45-4e6c-ad52-c172db344ff8",
   "metadata": {},
   "source": [
    "**Exercise 4**\n",
    "  \n",
    "Write a program that:\n",
    "- Prompts the user to input a series of key-value pairs in the format key:value separated by commas.\n",
    "- Converts the input into a dictionary and displays it."
   ]
  },
  {
   "cell_type": "code",
   "execution_count": 6,
   "id": "7f13702a-eb46-4eb2-ad04-1f0301a38a87",
   "metadata": {},
   "outputs": [
    {
     "name": "stdin",
     "output_type": "stream",
     "text": [
      "Please, enter a series of key-value pairs in the format key:value separated by commas nombre:isabel, edad:26, color:azul\n"
     ]
    },
    {
     "name": "stdout",
     "output_type": "stream",
     "text": [
      "Diccionario resultante: {'nombre': 'isabel', ' edad': '26', ' color': 'azul'}\n"
     ]
    }
   ],
   "source": [
    "key_value = input(\"Please, enter a series of key-value pairs in the format key:value separated by commas\")\n",
    "dic = dict(item.split(\":\") for item in key_value.split(\",\"))\n",
    "\n",
    "print(\"Diccionario resultante:\", dic)"
   ]
  },
  {
   "cell_type": "markdown",
   "id": "a0d0c251-1dfd-49f7-a902-cac2d01d33ea",
   "metadata": {},
   "source": [
    "**Exercise 5**\n",
    "  \n",
    "Write a program that:\n",
    "- Prompts the user to enter a sentence.\n",
    "- Uses a dictionary to count and display the frequency of each word in the sentence."
   ]
  },
  {
   "cell_type": "code",
   "execution_count": 9,
   "id": "da35b577-1117-4aae-a32f-c639e731a2b2",
   "metadata": {},
   "outputs": [
    {
     "name": "stdin",
     "output_type": "stream",
     "text": [
      "Please, enter a sentence Hello world, hello Python! Python Python.\n"
     ]
    },
    {
     "name": "stdout",
     "output_type": "stream",
     "text": [
      "\n",
      "Frecuencia de palabras:\n",
      "hello: 2\n",
      "world: 1\n",
      "python: 3\n"
     ]
    }
   ],
   "source": [
    "sentence = input(\"Please, enter a sentence\")\n",
    "palabras = sentence.split()\n",
    "conteo_frecuencia = {}\n",
    "\n",
    "for palabra in palabras:\n",
    "    palabra = palabra.lower().strip(\".,!?\")\n",
    "    conteo_frecuencia[palabra] = conteo_frecuencia.get(palabra, 0) + 1\n",
    "\n",
    "print(\"\\nFrecuencia de palabras:\")\n",
    "for palabra, conteo_frecuencia in conteo_frecuencia.items():\n",
    "    print(f\"{palabra}: {conteo_frecuencia}\")"
   ]
  },
  {
   "cell_type": "code",
   "execution_count": null,
   "id": "e2c57203-819e-4aa8-bf4f-9dd435988d80",
   "metadata": {},
   "outputs": [],
   "source": []
  }
 ],
 "metadata": {
  "kernelspec": {
   "display_name": "Python 3.12 (Anaconda)",
   "language": "python",
   "name": "py312"
  },
  "language_info": {
   "codemirror_mode": {
    "name": "ipython",
    "version": 3
   },
   "file_extension": ".py",
   "mimetype": "text/x-python",
   "name": "python",
   "nbconvert_exporter": "python",
   "pygments_lexer": "ipython3",
   "version": "3.12.8"
  }
 },
 "nbformat": 4,
 "nbformat_minor": 5
}
