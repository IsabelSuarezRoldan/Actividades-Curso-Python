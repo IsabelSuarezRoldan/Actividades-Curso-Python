{
 "cells": [
  {
   "cell_type": "markdown",
   "id": "0bc2de48-08ef-40f1-958b-eb3d3883f755",
   "metadata": {},
   "source": [
    "**EXERCISES N. 4**\n",
    "\n",
    "Resolve the following exercises using a code editor, an IDE, or a Jupyter Notebook. Then, upload the files to a GitHub public repository. Finally, share the repository's URL as a response to this thread."
   ]
  },
  {
   "cell_type": "markdown",
   "id": "6c21af86-6076-4fbb-b3f1-3d723b03a446",
   "metadata": {},
   "source": [
    "**Exercise 1**\n",
    "  \n",
    "Write a program that:\n",
    "- Prompts the user to input a number.\n",
    "- Uses a for loop to display its multiplication table up to 10."
   ]
  },
  {
   "cell_type": "code",
   "execution_count": 3,
   "id": "e2419646-8129-4211-9814-35bae25bfacb",
   "metadata": {},
   "outputs": [
    {
     "name": "stdin",
     "output_type": "stream",
     "text": [
      "Please, enter a number 2\n"
     ]
    },
    {
     "name": "stdout",
     "output_type": "stream",
     "text": [
      "2 * 1 = 2\n",
      "2 * 2 = 4\n",
      "2 * 3 = 6\n",
      "2 * 4 = 8\n",
      "2 * 5 = 10\n",
      "2 * 6 = 12\n",
      "2 * 7 = 14\n",
      "2 * 8 = 16\n",
      "2 * 9 = 18\n",
      "2 * 10 = 20\n"
     ]
    }
   ],
   "source": [
    "number = int(input(\"Please, enter a number\"))\n",
    "i = 0\n",
    "for i in range (1,11):\n",
    "    result = number * i\n",
    "    print(f\"{number} * {i} = {result}\")\n",
    "    i += 1"
   ]
  },
  {
   "cell_type": "markdown",
   "id": "c7c02805-3afd-4d9c-b4a8-54ecd7627498",
   "metadata": {},
   "source": [
    "**Exercise 2**\n",
    "  \n",
    "Write a program that:\n",
    "- Uses a while loop to let the user guess a number (predefined in the program, e.g., 7).\n",
    "- Provides feedback (\"Too high\", \"Too low\", or \"Correct\") and ends the loop when the user guesses correctly."
   ]
  },
  {
   "cell_type": "code",
   "execution_count": 7,
   "id": "b0b1cff6-26f1-46ea-9e43-1036511b3c89",
   "metadata": {},
   "outputs": [
    {
     "name": "stdin",
     "output_type": "stream",
     "text": [
      "Please, guess a number 2\n"
     ]
    },
    {
     "name": "stdout",
     "output_type": "stream",
     "text": [
      "Too low!\n"
     ]
    },
    {
     "name": "stdin",
     "output_type": "stream",
     "text": [
      "Please, guess a number 9\n"
     ]
    },
    {
     "name": "stdout",
     "output_type": "stream",
     "text": [
      "Too high!\n"
     ]
    },
    {
     "name": "stdin",
     "output_type": "stream",
     "text": [
      "Please, guess a number /\n"
     ]
    },
    {
     "name": "stdout",
     "output_type": "stream",
     "text": [
      "Invalid input! Please enter a number.\n"
     ]
    },
    {
     "name": "stdin",
     "output_type": "stream",
     "text": [
      "Please, guess a number 7\n"
     ]
    },
    {
     "name": "stdout",
     "output_type": "stream",
     "text": [
      "Correct! You guessed it.\n"
     ]
    }
   ],
   "source": [
    "correct_number = 7\n",
    "while True:\n",
    "    guess = input(\"Please, guess a number\")\n",
    "    if not guess.isdigit():\n",
    "        print(\"Invalid input! Please enter a number.\")\n",
    "        continue\n",
    "    guess = int(guess) \n",
    "    if guess > correct_number:\n",
    "        print(\"Too high!\")\n",
    "    elif guess < correct_number:\n",
    "        print(\"Too low!\")\n",
    "    else:\n",
    "        print(\"Correct! You guessed it.\")\n",
    "        break"
   ]
  },
  {
   "cell_type": "markdown",
   "id": "8c13e4b2-1a4f-40f9-a145-f62ae6157f25",
   "metadata": {},
   "source": [
    "**Exercise 3**\n",
    "\n",
    "Write a program that:\n",
    "- Prompts the user to enter a string.\n",
    "- Uses a for loop to count and display the number of vowels (a, e, i, o, u) in the string."
   ]
  },
  {
   "cell_type": "code",
   "execution_count": 10,
   "id": "1eea72ed-bc0e-465c-acf1-dd01d6a8fcfa",
   "metadata": {},
   "outputs": [
    {
     "name": "stdin",
     "output_type": "stream",
     "text": [
      "Please, enter a string HEllo World!\n"
     ]
    },
    {
     "name": "stdout",
     "output_type": "stream",
     "text": [
      "Number of vowels: 3\n"
     ]
    }
   ],
   "source": [
    "string = input(\"Please, enter a string\")\n",
    "i = 0\n",
    "vowels = \"aeiouAEIOU\"\n",
    "for char in string:\n",
    "    if char in vowels:\n",
    "        i += 1\n",
    "print(f\"Number of vowels: {i}\")\n",
    "    "
   ]
  },
  {
   "cell_type": "markdown",
   "id": "dc6fd93d-a0a0-4962-9788-11236c39b194",
   "metadata": {},
   "source": [
    "**Exercise 4**\n",
    "  \n",
    "Write a program that:\n",
    "- Prompts the user to input a string.\n",
    "- Uses a for loop to reverse the string and display the result."
   ]
  },
  {
   "cell_type": "code",
   "execution_count": 11,
   "id": "d97306c7-183e-443b-bd72-fbb1993a910c",
   "metadata": {},
   "outputs": [
    {
     "name": "stdin",
     "output_type": "stream",
     "text": [
      "Please, enter a string Hello world!\n"
     ]
    },
    {
     "name": "stdout",
     "output_type": "stream",
     "text": [
      "Reversed string: !dlrow olleH\n"
     ]
    }
   ],
   "source": [
    "string = input(\"Please, enter a string\")\n",
    "reversed_string = \"\"\n",
    "for char in string:\n",
    "    reversed_string = char + reversed_string\n",
    "print(f\"Reversed string: {reversed_string}\")\n"
   ]
  },
  {
   "cell_type": "markdown",
   "id": "5dd6ac1a-081f-46c8-8bea-d635774562cb",
   "metadata": {},
   "source": [
    "**Exercise 5**\n",
    "  \n",
    "Write a program that:\n",
    "- Uses a for loop to iterate through numbers from 1 to 50.\n",
    "- For multiples of 3, print \"Fizz\".\n",
    "- For multiples of 5, print \"Buzz\".\n",
    "- For multiples of both 3 and 5, print \"FizzBuzz\".\n",
    "- Otherwise, print the number."
   ]
  },
  {
   "cell_type": "code",
   "execution_count": 15,
   "id": "242b7a9e-d9aa-4055-beea-1ceb9a792754",
   "metadata": {},
   "outputs": [
    {
     "name": "stdout",
     "output_type": "stream",
     "text": [
      "1\n",
      "2\n",
      "Fizz\n",
      "4\n",
      "Buzz\n",
      "Fizz\n",
      "7\n",
      "8\n",
      "Fizz\n",
      "Buzz\n",
      "11\n",
      "Fizz\n",
      "13\n",
      "14\n",
      "FizzBuzz\n",
      "16\n",
      "17\n",
      "Fizz\n",
      "19\n",
      "Buzz\n",
      "Fizz\n",
      "22\n",
      "23\n",
      "Fizz\n",
      "Buzz\n",
      "26\n",
      "Fizz\n",
      "28\n",
      "29\n",
      "FizzBuzz\n",
      "31\n",
      "32\n",
      "Fizz\n",
      "34\n",
      "Buzz\n",
      "Fizz\n",
      "37\n",
      "38\n",
      "Fizz\n",
      "Buzz\n",
      "41\n",
      "Fizz\n",
      "43\n",
      "44\n",
      "FizzBuzz\n",
      "46\n",
      "47\n",
      "Fizz\n",
      "49\n",
      "Buzz\n"
     ]
    }
   ],
   "source": [
    "for number in range (1,51):\n",
    "    if (number % 3 == 0 and number % 5 == 0):\n",
    "         print(\"FizzBuzz\")\n",
    "    elif number % 3 == 0:\n",
    "        print(\"Fizz\")\n",
    "    elif number % 5 == 0:\n",
    "        print(\"Buzz\")\n",
    "    else:\n",
    "        print(number)"
   ]
  },
  {
   "cell_type": "code",
   "execution_count": null,
   "id": "fe33122c-1d33-48b7-b124-04356f0afc79",
   "metadata": {},
   "outputs": [],
   "source": []
  }
 ],
 "metadata": {
  "kernelspec": {
   "display_name": "Python 3.12 (Anaconda)",
   "language": "python",
   "name": "py312"
  },
  "language_info": {
   "codemirror_mode": {
    "name": "ipython",
    "version": 3
   },
   "file_extension": ".py",
   "mimetype": "text/x-python",
   "name": "python",
   "nbconvert_exporter": "python",
   "pygments_lexer": "ipython3",
   "version": "3.12.8"
  }
 },
 "nbformat": 4,
 "nbformat_minor": 5
}
