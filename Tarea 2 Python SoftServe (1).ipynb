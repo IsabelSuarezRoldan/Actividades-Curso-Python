{
 "cells": [
  {
   "cell_type": "markdown",
   "id": "6ee11e64",
   "metadata": {},
   "source": [
    "**EXERCISES N. 3**\n",
    "\n",
    "\n",
    "Resolve the following exercises using a code editor, an IDE, or a Jupyter Notebook. Then, upload the files to a GitHub public repository. Finally, share the repository's URL as a response to this thread."
   ]
  },
  {
   "cell_type": "markdown",
   "id": "a9e822ca",
   "metadata": {},
   "source": [
    "**Exercise 1**\n",
    "\n",
    "Write a program that:\n",
    "- Asks the user for a year.\n",
    "- Determines whether the year is a leap year.\n",
    "\n",
    "**Hint:** A leap year is divisible by 4 but not by 100 unless also divisible by 400."
   ]
  },
  {
   "cell_type": "code",
   "execution_count": 9,
   "id": "295600af",
   "metadata": {},
   "outputs": [
    {
     "name": "stdout",
     "output_type": "stream",
     "text": [
      "Please, enter a year: 2020\n",
      "The year 2020 is a leap year\n"
     ]
    }
   ],
   "source": [
    "year = int(input('Please, enter a year: '))\n",
    "if (year % 4 == 0 and year % 100 != 0) or (year % 400 == 0):\n",
    "    print(f\"The year {year} is a leap year\")\n",
    "else:\n",
    "    print(f\"The year {year} is not a leap year\")"
   ]
  },
  {
   "cell_type": "markdown",
   "id": "412a422b",
   "metadata": {},
   "source": [
    "**Exercise 2**\n",
    "\n",
    "Write a program that:\n",
    "- Prompts the user to input two numbers and an operator (+, -, *, /).\n",
    "- Performs the operation and displays the result."
   ]
  },
  {
   "cell_type": "code",
   "execution_count": 15,
   "id": "7019b83e",
   "metadata": {},
   "outputs": [
    {
     "name": "stdout",
     "output_type": "stream",
     "text": [
      "Please, enter a number: 4\n",
      "Please, enter another number: 2\n",
      "Please, enter an operator (+, -, *, /): *\n",
      "The result with the operator * is:  8.0\n"
     ]
    }
   ],
   "source": [
    "number_1 = float(input('Please, enter a number: '))\n",
    "number_2 = float(input('Please, enter another number: '))\n",
    "operator = input('Please, enter an operator (+, -, *, /): ')\n",
    "if operator == \"+\":\n",
    "    result = number_1 + number_2\n",
    "elif operator == \"-\":\n",
    "    result = number_1 - number_2\n",
    "elif operator == \"*\":\n",
    "    result = number_1 * number_2\n",
    "elif operator == \"/\":\n",
    "    if number_2 != 0:\n",
    "        result = number_1 / number_2\n",
    "    else:\n",
    "        result = \"Error: Division by zero is not allowed.\"\n",
    "else:\n",
    "    result = \"Invalid operator. Please use +, -, *, or /.\"\n",
    "\n",
    "print(f\"The result with the operator {operator} is: \", result)"
   ]
  },
  {
   "cell_type": "markdown",
   "id": "2b5327ad",
   "metadata": {},
   "source": [
    "**Exercise 3**\n",
    "\n",
    "Write a program that:\n",
    "- Prompts the user to input a number.\n",
    "- Classifies the number as positive, negative, or zero."
   ]
  },
  {
   "cell_type": "code",
   "execution_count": 21,
   "id": "89cf7fdb",
   "metadata": {},
   "outputs": [
    {
     "name": "stdout",
     "output_type": "stream",
     "text": [
      "Please, enter a number: 2\n",
      "Is a positive number\n"
     ]
    }
   ],
   "source": [
    "number = float(input('Please, enter a number: '))\n",
    "if number < 0:\n",
    "    print(\"Is a negative number\")\n",
    "elif number == 0:\n",
    "    print(\"The number is zero\")\n",
    "else:\n",
    "    print(\"Is a positive number\")"
   ]
  },
  {
   "cell_type": "markdown",
   "id": "2eccaf93",
   "metadata": {},
   "source": [
    "**Exercise 4**\n",
    "\n",
    "Write a program using match...case that:\n",
    "- Asks the user to input a number (1-7).\n",
    "- Outputs the corresponding day of the week (e.g., 1 for Monday, 7 for Sunday)."
   ]
  },
  {
   "cell_type": "code",
   "execution_count": 5,
   "id": "dddf0ab8",
   "metadata": {},
   "outputs": [
    {
     "name": "stdin",
     "output_type": "stream",
     "text": [
      "Please, enter a number (1 - 7):  1\n"
     ]
    },
    {
     "name": "stdout",
     "output_type": "stream",
     "text": [
      "The number 1 corresponds to Monday\n"
     ]
    }
   ],
   "source": [
    "number = int(input('Please, enter a number (1 - 7): '))\n",
    "match number:\n",
    "    case 1:\n",
    "        day =  \"Monday\"\n",
    "    case 2:\n",
    "        day = \"Tuesday\"\n",
    "    case 3:\n",
    "        day = \"Wednesday\"\n",
    "    case 4:\n",
    "        day = \"Thursday\"\n",
    "    case 5:\n",
    "        day = \"Friday\"\n",
    "    case 6:\n",
    "        day = \"Saturday\"\n",
    "    case 7:\n",
    "        day = \"Sunday\"\n",
    "    case _: \n",
    "        day = \"Invalid input. Please enter a number between 1 and 7.\"\n",
    "        \n",
    "\n",
    "print(f\"The number {number} corresponds to {day}\")\n",
    "    "
   ]
  },
  {
   "cell_type": "markdown",
   "id": "966fd147",
   "metadata": {},
   "source": [
    "**Exercise 5**\n",
    "\n",
    "Write a program that:\n",
    "- Prompts the user to input a single character.\n",
    "- Determines if the character is a vowel, consonant, digit, or special character."
   ]
  },
  {
   "cell_type": "code",
   "execution_count": 10,
   "id": "4e7239dc-a8ef-405c-b77e-70265d4a9514",
   "metadata": {},
   "outputs": [
    {
     "name": "stdin",
     "output_type": "stream",
     "text": [
      "Please, enter a single character:  i\n"
     ]
    },
    {
     "name": "stdout",
     "output_type": "stream",
     "text": [
      "The character 'i' is a Vowel.\n"
     ]
    }
   ],
   "source": [
    "char = input('Please, enter a single character: ')\n",
    "vowels = \"aeiouAEIOU\"\n",
    "consonants = \"bcdfghjklmnpqrstvwxyzBCDFGHJKLMNPQRSTVWXYZ\"\n",
    "\n",
    "if len(char) == 1:\n",
    "    if char in vowels:\n",
    "        print(f\"The character '{char}' is a Vowel.\")\n",
    "    elif char in consonants:\n",
    "        print(f\"The character '{char}' is a Consonant.\")\n",
    "    elif char.isdigit():\n",
    "        print(f\"The character '{char}' is a Digit.\")\n",
    "    else:\n",
    "        print(f\"The character '{char}' is a Special Character.\")\n",
    "else:\n",
    "    print(\"Please enter only one character.\")\n"
   ]
  },
  {
   "cell_type": "code",
   "execution_count": null,
   "id": "90f8483a-31d0-4aa2-9386-3354348887a1",
   "metadata": {},
   "outputs": [],
   "source": []
  }
 ],
 "metadata": {
  "kernelspec": {
   "display_name": "Python 3.12 (Anaconda)",
   "language": "python",
   "name": "py312"
  },
  "language_info": {
   "codemirror_mode": {
    "name": "ipython",
    "version": 3
   },
   "file_extension": ".py",
   "mimetype": "text/x-python",
   "name": "python",
   "nbconvert_exporter": "python",
   "pygments_lexer": "ipython3",
   "version": "3.12.8"
  }
 },
 "nbformat": 4,
 "nbformat_minor": 5
}
