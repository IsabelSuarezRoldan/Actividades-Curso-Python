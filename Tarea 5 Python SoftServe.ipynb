{
 "cells": [
  {
   "cell_type": "markdown",
   "id": "f25caabe-f9c0-4c51-9be8-859cfc3cfc73",
   "metadata": {},
   "source": [
    "**EXERCISES N. 6**\n",
    "\n",
    "Resolve the following exercises using a code editor, an IDE, or a Jupyter Notebook. Then, upload the files to a GitHub public repository. Finally, share the repository's URL as a response to this thread."
   ]
  },
  {
   "cell_type": "markdown",
   "id": "bc8ae031-a191-4a2b-8781-0f633d06a34c",
   "metadata": {},
   "source": [
    "**Exercise 1**\n",
    "\n",
    "Write a recursive function factorial(n) that:\n",
    "- Takes a single parameter n (an integer).\n",
    "- Returns the factorial of n."
   ]
  },
  {
   "cell_type": "code",
   "execution_count": 4,
   "id": "fb101fa0-8432-49e9-952b-7f68b192e4da",
   "metadata": {},
   "outputs": [
    {
     "name": "stdin",
     "output_type": "stream",
     "text": [
      "Please, enter a number 5\n"
     ]
    },
    {
     "name": "stdout",
     "output_type": "stream",
     "text": [
      "El factorial de 5 es 120\n"
     ]
    }
   ],
   "source": [
    "number = int(input(\"Please, enter a number\"))\n",
    "\n",
    "def factorial(number):\n",
    "    if number == 0 or number == 1:\n",
    "        return 1\n",
    "    else:\n",
    "        return number * factorial(number -1)\n",
    "\n",
    "print(f\"El factorial de {number} es {factorial(number)}\")"
   ]
  },
  {
   "cell_type": "markdown",
   "id": "f7b43a4d-4af4-40d7-8f14-6da453a77d82",
   "metadata": {},
   "source": [
    "**Exercise 2**\n",
    "  \n",
    "Write a function is_prime(n) that:\n",
    "- Takes a single parameter n (an integer).\n",
    "- Returns True if the number is prime, otherwise False."
   ]
  },
  {
   "cell_type": "code",
   "execution_count": 9,
   "id": "a48936e3-4485-4aea-b068-8227047eda5e",
   "metadata": {},
   "outputs": [
    {
     "name": "stdin",
     "output_type": "stream",
     "text": [
      "Please, enter a number 7\n"
     ]
    },
    {
     "name": "stdout",
     "output_type": "stream",
     "text": [
      "7 es primo: True\n"
     ]
    }
   ],
   "source": [
    "number = int(input(\"Please, enter a number\"))\n",
    "\n",
    "def is_prime(number):\n",
    "    if number < 2:\n",
    "        return False\n",
    "    for i in range(2, int(number ** 0.5) + 1):\n",
    "        if number % i == 0:\n",
    "            return False\n",
    "    return True\n",
    "    \n",
    "print(f\"{number} es primo: {is_prime(number)}\")"
   ]
  },
  {
   "cell_type": "markdown",
   "id": "dd48c99d-6592-4f08-92e9-07b8c8521c4a",
   "metadata": {},
   "source": [
    "**Exercise 3**\n",
    "\n",
    "Write a function power(base, exponent=2) that:\n",
    "- Takes two parameters: base (a number) and exponent (a number, default is 2).\n",
    "- Returns the result of raising base to the power of exponent."
   ]
  },
  {
   "cell_type": "code",
   "execution_count": 11,
   "id": "c6863254-efea-41d3-aa2d-a53191088d6f",
   "metadata": {},
   "outputs": [
    {
     "name": "stdin",
     "output_type": "stream",
     "text": [
      "Ingrese la base:  2\n",
      "Ingrese el exponente (deje vacío para usar el valor predeterminado de 2):  5\n"
     ]
    },
    {
     "name": "stdout",
     "output_type": "stream",
     "text": [
      "2.0 elevado a 5 es 32.0\n"
     ]
    }
   ],
   "source": [
    "base = float(input(\"Ingrese la base: \"))\n",
    "exponent = input(\"Ingrese el exponente (deje vacío para usar el valor predeterminado de 2): \")\n",
    "\n",
    "def power(base, exponent=2):\n",
    "    return base ** exponent\n",
    "    \n",
    "if exponent == \"\":\n",
    "    print(f\"{base} elevado a 2 es {power(base)}\")\n",
    "else:\n",
    "    print(f\"{base} elevado a {exponent} es {power(base, int(exponent))}\")"
   ]
  },
  {
   "cell_type": "markdown",
   "id": "51754774-6164-4317-8900-4413b5d7f36f",
   "metadata": {},
   "source": [
    "**Exercise 4**\n",
    "  \n",
    "Write a function find_max(numbers) that:\n",
    "- Takes a single parameter numbers (a list of integers or floats).\n",
    "- Returns the largest number in the list."
   ]
  },
  {
   "cell_type": "code",
   "execution_count": 16,
   "id": "565b9d58-4c6f-4e4a-97fd-48f7f314283d",
   "metadata": {},
   "outputs": [
    {
     "name": "stdin",
     "output_type": "stream",
     "text": [
      "Please, enter a list of numbers separated by spaces 1 2 5 8 6 9 9.9\n"
     ]
    },
    {
     "name": "stdout",
     "output_type": "stream",
     "text": [
      "El número más grande en la lista es: 9.9\n"
     ]
    }
   ],
   "source": [
    "list_numbers = input(\"Please, enter a list of numbers separated by spaces\").split()\n",
    "list_numbers = [float(x) for x in list_numbers]\n",
    "\n",
    "def max_list(list_numbers):\n",
    "    return max(list_numbers)\n",
    "    \n",
    "print(f\"El número más grande en la lista es: {max_list(list_numbers)}\")"
   ]
  },
  {
   "cell_type": "markdown",
   "id": "1401b807-3d15-4754-aacd-4035549dec2a",
   "metadata": {},
   "source": [
    "**Exercise 5**\n",
    "  \n",
    "Write a function fibonacci(n) that:\n",
    "- Takes a single parameter n (an integer).\n",
    "- Returns a list containing the first n numbers in the Fibonacci sequence."
   ]
  },
  {
   "cell_type": "code",
   "execution_count": 17,
   "id": "6fdc26fd-a198-40f6-85a7-5260ebd3efbe",
   "metadata": {},
   "outputs": [
    {
     "name": "stdin",
     "output_type": "stream",
     "text": [
      "Please, enter a number 5\n"
     ]
    },
    {
     "name": "stdout",
     "output_type": "stream",
     "text": [
      "[0, 1, 1, 2, 3]\n"
     ]
    }
   ],
   "source": [
    "number = int(input(\"Please, enter a number\"))\n",
    "\n",
    "def fibonacci(number):\n",
    "    fib_sequence = [0, 1]\n",
    "    while len(fib_sequence) < number:\n",
    "        fib_sequence.append(fib_sequence[-1] + fib_sequence[-2])\n",
    "    return fib_sequence[:number]\n",
    "    \n",
    "print (fibonacci(number))"
   ]
  }
 ],
 "metadata": {
  "kernelspec": {
   "display_name": "Python 3.12 (Anaconda)",
   "language": "python",
   "name": "py312"
  },
  "language_info": {
   "codemirror_mode": {
    "name": "ipython",
    "version": 3
   },
   "file_extension": ".py",
   "mimetype": "text/x-python",
   "name": "python",
   "nbconvert_exporter": "python",
   "pygments_lexer": "ipython3",
   "version": "3.12.8"
  }
 },
 "nbformat": 4,
 "nbformat_minor": 5
}
