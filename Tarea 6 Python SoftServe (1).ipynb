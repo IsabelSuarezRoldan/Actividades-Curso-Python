{
 "cells": [
  {
   "cell_type": "markdown",
   "id": "aa4cf1f4-8ab4-4738-b528-3ae44cdcec5d",
   "metadata": {},
   "source": [
    "**EXERCISES N. 7**\n",
    "\n",
    "Resolve the following exercises using a code editor, an IDE, or a Jupyter Notebook. Then, upload the files to a GitHub public repository. Finally, share the repository's URL as a response to this thread."
   ]
  },
  {
   "cell_type": "markdown",
   "id": "e221cc2a-28d4-4284-92ed-bdfa4c308ab5",
   "metadata": {},
   "source": [
    "**Exercise 1**\n",
    "  \n",
    "Create a class Person with:\n",
    "- Attributes: name and age.\n",
    "- A method introduce() that prints a message like \"Hi, my name is [name] and I am [age] years old.\""
   ]
  },
  {
   "cell_type": "code",
   "execution_count": 5,
   "id": "ee2a7546-872d-4dba-948d-41608a1ca487",
   "metadata": {},
   "outputs": [
    {
     "name": "stdout",
     "output_type": "stream",
     "text": [
      "Hi, my name is Isabel and I am 26 years old.\n"
     ]
    }
   ],
   "source": [
    "class Person:\n",
    "    \n",
    "    def __init__(self, name, age):\n",
    "        self.name = name\n",
    "        self.age = age\n",
    "        \n",
    "    def introduce(self):\n",
    "        print(f\"Hi, my name is {self.name} and I am {self.age} years old.\")\n",
    "\n",
    "person1 = Person(\"Isabel\", 26)\n",
    "person1.introduce()"
   ]
  },
  {
   "cell_type": "markdown",
   "id": "85eeaa03-d6d7-410b-8778-e70848f3d6cd",
   "metadata": {},
   "source": [
    "**Exercise 2**\n",
    "  \n",
    "Create a class Rectangle with:\n",
    "- Attributes: length and width.\n",
    "- A method area() that calculates and returns the area of the rectangle.\n",
    "- A method perimeter() that calculates and returns the perimeter of the rectangle."
   ]
  },
  {
   "cell_type": "code",
   "execution_count": 14,
   "id": "1563e90c-20cb-480f-947a-280f5d056ec8",
   "metadata": {},
   "outputs": [
    {
     "name": "stdout",
     "output_type": "stream",
     "text": [
      "The area of the rentangle is:  18\n",
      "The perimeter of the rentangle is:  18\n"
     ]
    }
   ],
   "source": [
    "class Rectangle:\n",
    "    \n",
    "    def __init__(self, length, width):\n",
    "        self.length = length\n",
    "        self.width = width\n",
    "        \n",
    "    def area(self):\n",
    "        area = self.length * self.width\n",
    "        print(\"The area of the rentangle is: \",area)\n",
    "\n",
    "    def perimeter(self):\n",
    "        perimeter = 2 * (self.length + self.width)\n",
    "        print(\"The perimeter of the rentangle is: \",perimeter)\n",
    "\n",
    "rectangle1 = Rectangle(3, 6)\n",
    "rectangle1.area()\n",
    "rectangle1.perimeter()"
   ]
  },
  {
   "cell_type": "markdown",
   "id": "e496f0f1-0c87-4c20-9772-487bfd64c3f2",
   "metadata": {},
   "source": [
    "**Exercise 3**\n",
    "  \n",
    "- Create a base class Animal with:\n",
    "    - A method speak() that prints \"I am an animal.\"\n",
    "- Create a derived class Dog that:\n",
    "    - Overrides the speak() method to print \"Woof! I am a dog.\""
   ]
  },
  {
   "cell_type": "code",
   "execution_count": 16,
   "id": "a6e856ea-8cc1-49c3-adc6-072051cab2cb",
   "metadata": {},
   "outputs": [
    {
     "name": "stdout",
     "output_type": "stream",
     "text": [
      "Woof! I am a dog.\n",
      "I am an animal.\n"
     ]
    }
   ],
   "source": [
    "class Animal:\n",
    "    \n",
    "    def speak(self):\n",
    "        print(\"I am an animal.\")\n",
    "\n",
    "class Dog(Animal):\n",
    "        def speak(self):\n",
    "            print(\"Woof! I am a dog.\")\n",
    "\n",
    "dog = Dog()\n",
    "dog.speak()\n",
    "animal = Animal()\n",
    "animal.speak()  "
   ]
  },
  {
   "cell_type": "markdown",
   "id": "5438d707-c051-43ce-8f4d-c8c734a1d0de",
   "metadata": {},
   "source": [
    "**Exercise 4**\n",
    "  \n",
    "- Create a base class Shape with:\n",
    "    - A method area() that returns 0.\n",
    "- Create two derived classes Circle and Square:\n",
    "    - Circle should calculate the area using the proper formula.\n",
    "    - Square should calculate the area using the proper formula."
   ]
  },
  {
   "cell_type": "code",
   "execution_count": 19,
   "id": "b3f9a70e-9086-475a-9dc2-67be0cda269e",
   "metadata": {},
   "outputs": [
    {
     "name": "stdout",
     "output_type": "stream",
     "text": [
      "Área del círculo: 78.54\n",
      "Área del cuadrado: 9\n"
     ]
    }
   ],
   "source": [
    "import math\n",
    "\n",
    "class Shape:\n",
    "\n",
    "    def area(self):\n",
    "        return 0\n",
    "\n",
    "class Circle(Shape):\n",
    "    \n",
    "    def __init__(self, radius):\n",
    "        self.radius = radius\n",
    "\n",
    "    def area(self):\n",
    "        return math.pi * (self.radius ** 2)\n",
    "\n",
    "class Square(Shape):\n",
    "\n",
    "    def __init__(self, side):\n",
    "        self.side = side\n",
    "\n",
    "    def area(self):\n",
    "        return self.side ** 2\n",
    "\n",
    "circle = Circle(5)\n",
    "square = Square(3)\n",
    "print(f\"Área del círculo: {circle.area():.2f}\")\n",
    "print(f\"Área del cuadrado: {square.area()}\")"
   ]
  },
  {
   "cell_type": "markdown",
   "id": "38ad1770-ab66-4bfd-9454-56ace82e4644",
   "metadata": {},
   "source": [
    "**Exercise 5**\n",
    "\n",
    "- Create a class Point with:\n",
    "    - Attributes: x and y.\n",
    "    - A magic method str() to return a string representation of the point in the format \"(x, y)\".\n",
    "    - A magic method add() to add two points by summing their x and y coordinates."
   ]
  },
  {
   "cell_type": "code",
   "execution_count": 20,
   "id": "5178438c-4921-4dc5-8a6e-d22af5d875eb",
   "metadata": {},
   "outputs": [
    {
     "name": "stdout",
     "output_type": "stream",
     "text": [
      "Point 1: (2, 3)\n",
      "Point 2: (4, 5)\n",
      "Suma de puntos: (6, 8)\n"
     ]
    }
   ],
   "source": [
    "class Point:\n",
    "    def __init__(self, x, y):\n",
    "        self.x = x\n",
    "        self.y = y\n",
    "        \n",
    "    def __str__(self):\n",
    "        return f\"({self.x}, {self.y})\"\n",
    "    \n",
    "    def __add__(self, other):\n",
    "        return Point(self.x + other.x, self.y + other.y)\n",
    "\n",
    "point1 = Point(2, 3)\n",
    "point2 = Point(4, 5)\n",
    "print(f\"Point 1: {point1}\")\n",
    "print(f\"Point 2: {point2}\")\n",
    "result = point1 + point2\n",
    "print(f\"Suma de puntos: {result}\")"
   ]
  },
  {
   "cell_type": "code",
   "execution_count": null,
   "id": "81849972-3d9b-4dcd-b3fa-75536f069bc9",
   "metadata": {},
   "outputs": [],
   "source": []
  }
 ],
 "metadata": {
  "kernelspec": {
   "display_name": "Python 3.12 (Anaconda)",
   "language": "python",
   "name": "py312"
  },
  "language_info": {
   "codemirror_mode": {
    "name": "ipython",
    "version": 3
   },
   "file_extension": ".py",
   "mimetype": "text/x-python",
   "name": "python",
   "nbconvert_exporter": "python",
   "pygments_lexer": "ipython3",
   "version": "3.12.8"
  }
 },
 "nbformat": 4,
 "nbformat_minor": 5
}
